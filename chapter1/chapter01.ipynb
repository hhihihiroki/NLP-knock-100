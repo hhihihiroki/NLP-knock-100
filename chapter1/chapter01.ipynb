{
 "cells": [
  {
   "cell_type": "markdown",
   "metadata": {},
   "source": [
    "# 00"
   ]
  },
  {
   "cell_type": "code",
   "execution_count": 1,
   "metadata": {},
   "outputs": [
    {
     "name": "stdout",
     "output_type": "stream",
     "text": [
      "desserts\n"
     ]
    }
   ],
   "source": [
    "def answer0(str):\n",
    "    r_str = str[::-1]\n",
    "    return r_str\n",
    "\n",
    "print(answer0(\"stressed\"))"
   ]
  },
  {
   "cell_type": "markdown",
   "metadata": {},
   "source": [
    "# 01"
   ]
  },
  {
   "cell_type": "code",
   "execution_count": 2,
   "metadata": {},
   "outputs": [
    {
     "name": "stdout",
     "output_type": "stream",
     "text": [
      "パトカー\n"
     ]
    }
   ],
   "source": [
    "def answer1(str):\n",
    "    return str[::2]\n",
    "\n",
    "print(answer1(\"パタトクカシーー\"))"
   ]
  },
  {
   "cell_type": "markdown",
   "metadata": {},
   "source": [
    "# 02"
   ]
  },
  {
   "cell_type": "code",
   "execution_count": 3,
   "metadata": {},
   "outputs": [
    {
     "name": "stdout",
     "output_type": "stream",
     "text": [
      "パタトクカシーー\n"
     ]
    }
   ],
   "source": [
    "def answer2(str1, str2):\n",
    "    ans = []\n",
    "    if len(str1) == len(str2):\n",
    "        return ''.join(str1[i] + str2[i] for i in range(len(str1)))\n",
    "    elif len(str1) < len(str2):\n",
    "        return ''.join(str1[i] + str2[i] for i in range(len(str1)) + str2[len(str1):])\n",
    "    else:\n",
    "        return ''.join(str1[i] + str2[i] for i in range(len(str2)) + str1[len(str2):])\n",
    "\n",
    "print(answer2('パトカー', 'タクシー'))"
   ]
  },
  {
   "cell_type": "markdown",
   "metadata": {},
   "source": [
    "# 03"
   ]
  },
  {
   "cell_type": "code",
   "execution_count": 4,
   "metadata": {},
   "outputs": [
    {
     "name": "stdout",
     "output_type": "stream",
     "text": [
      "[3, 1, 4, 1, 5, 9, 2, 6, 5, 3, 5, 8, 9, 7, 9]\n"
     ]
    }
   ],
   "source": [
    "import re\n",
    "def answer3(str):\n",
    "    words = list(len(s) for s in re.findall('\\w+', str))\n",
    "    return words\n",
    "\n",
    "print(answer3('Now I need a drink, alcoholic of course, after the heavy lectures involving quantum mechanics.'))"
   ]
  },
  {
   "cell_type": "markdown",
   "metadata": {},
   "source": [
    "# 04"
   ]
  },
  {
   "cell_type": "code",
   "execution_count": 9,
   "metadata": {},
   "outputs": [
    {
     "name": "stdout",
     "output_type": "stream",
     "text": [
      "{'H': 1, 'He': 2, 'Li': 3, 'Be': 4, 'B': 5, 'C': 6, 'N': 7, 'O': 8, 'F': 9, 'Ne': 10, 'Na': 11, 'Mi': 12, 'Al': 13, 'Si': 14, 'P': 15, 'S': 16, 'Cl': 17, 'Ar': 18, 'K': 19, 'Ca': 20}\n"
     ]
    }
   ],
   "source": [
    "import re\n",
    "def answer4(str):\n",
    "    singles = [1, 5, 6, 7, 8, 9, 15, 16, 19]\n",
    "    words = list(s for s in re.findall('\\w+', str))\n",
    "    element_symbols = {}\n",
    "    for num, word in enumerate(words, 1):\n",
    "        if num in singles:\n",
    "            element_symbols[word[0:1]] = num\n",
    "        else:\n",
    "            element_symbols[word[0:2]] = num\n",
    "    return element_symbols\n",
    "        \n",
    "print(answer4('Hi He Lied Because Boron Could Not Oxidize Fluorine. New Nations Might Also Sign Peace Security Clause. Arthur King Can.'))"
   ]
  },
  {
   "cell_type": "markdown",
   "metadata": {},
   "source": [
    "# 05"
   ]
  },
  {
   "cell_type": "code",
   "execution_count": 13,
   "metadata": {},
   "outputs": [
    {
     "name": "stdout",
     "output_type": "stream",
     "text": [
      "['I ', ' a', 'am', 'm ', ' a', 'an', 'n ', ' N', 'NL', 'LP', 'Pe', 'er']\n",
      "[['I', 'am'], ['am', 'an'], ['an', 'NLPer']]\n"
     ]
    }
   ],
   "source": [
    "def answer5(str, n):\n",
    "    return [str[i:i+n] for i in range(len(str) - n + 1)]\n",
    "\n",
    "str = 'I am an NLPer'\n",
    "print(answer5(str, 2))\n",
    "words = str.split(' ')\n",
    "print(answer5(words, 2))"
   ]
  },
  {
   "cell_type": "markdown",
   "metadata": {},
   "source": [
    "# 06"
   ]
  },
  {
   "cell_type": "code",
   "execution_count": 17,
   "metadata": {},
   "outputs": [
    {
     "name": "stdout",
     "output_type": "stream",
     "text": [
      "{'ad', 'ra', 'gr', 'is', 'pa', 'ph', 'ag', 'ap', 'di', 'ar', 'se'}\n",
      "{'pa', 'ra', 'ap', 'ar'}\n",
      "{'is', 'ad', 'di', 'se'}\n",
      "{'ag', 'ph', 'gr'}\n",
      "True\n",
      "False\n"
     ]
    }
   ],
   "source": [
    "str_x = 'paraparaparadise'\n",
    "str_y = 'paragraph'\n",
    "X = set(answer5(str_x, 2))\n",
    "Y = set(answer5(str_y, 2))\n",
    "print(X|Y)\n",
    "print(X&Y)\n",
    "print(X-Y)\n",
    "print(Y-X)\n",
    "print('se' in X)\n",
    "print('se' in Y)"
   ]
  },
  {
   "cell_type": "markdown",
   "metadata": {},
   "source": [
    "# 07"
   ]
  },
  {
   "cell_type": "code",
   "execution_count": 21,
   "metadata": {},
   "outputs": [
    {
     "name": "stdout",
     "output_type": "stream",
     "text": [
      "12時の気温は22.4\n"
     ]
    }
   ],
   "source": [
    "def answer7(x, y, z):\n",
    "    return '{}時の{}は{}'.format(x, y, z)\n",
    "\n",
    "print(answer7(12, '気温', 22.4))"
   ]
  },
  {
   "cell_type": "markdown",
   "metadata": {},
   "source": [
    "# 08"
   ]
  },
  {
   "cell_type": "code",
   "execution_count": 23,
   "metadata": {},
   "outputs": [
    {
     "name": "stdout",
     "output_type": "stream",
     "text": [
      "zBxDv\n"
     ]
    }
   ],
   "source": [
    "def cipher(str):\n",
    "    result = ''\n",
    "    for s in str:\n",
    "        if s.islower():\n",
    "            result += chr(219 - ord(s))\n",
    "        else:\n",
    "            result += s\n",
    "    return result\n",
    "\n",
    "print(cipher('aBcDe'))"
   ]
  },
  {
   "cell_type": "markdown",
   "metadata": {},
   "source": [
    "# 09"
   ]
  },
  {
   "cell_type": "code",
   "execution_count": 26,
   "metadata": {},
   "outputs": [
    {
     "name": "stdout",
     "output_type": "stream",
     "text": [
      "I cnuodl’t bilveee that I cuold alauclty uanrstdend what I was riaendg : the pnmheaneol poewr of the huamn mind .\n"
     ]
    }
   ],
   "source": [
    "import random\n",
    "def typoglycemia(str):\n",
    "    result = []\n",
    "    for word in str.split(' '):\n",
    "        if len(word) <= 4:\n",
    "            result.append(word)\n",
    "        else:\n",
    "            mid = list(word[1:-1])\n",
    "            random.shuffle(mid)\n",
    "            result.append(word[0] + ''.join(mid) + word[-1])\n",
    "    return ' '.join(result)\n",
    "\n",
    "print(typoglycemia('I couldn’t believe that I could actually understand what I was reading : the phenomenal power of the human mind .'))"
   ]
  },
  {
   "cell_type": "code",
   "execution_count": null,
   "metadata": {},
   "outputs": [],
   "source": []
  }
 ],
 "metadata": {
  "kernelspec": {
   "display_name": "Python 3",
   "language": "python",
   "name": "python3"
  },
  "language_info": {
   "codemirror_mode": {
    "name": "ipython",
    "version": 3
   },
   "file_extension": ".py",
   "mimetype": "text/x-python",
   "name": "python",
   "nbconvert_exporter": "python",
   "pygments_lexer": "ipython3",
   "version": "3.7.4"
  }
 },
 "nbformat": 4,
 "nbformat_minor": 2
}
